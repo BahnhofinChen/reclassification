{
 "cells": [
  {
   "cell_type": "code",
   "execution_count": null,
   "metadata": {},
   "outputs": [],
   "source": [
    "import os\n",
    "import numpy as np\n",
    "import rasterio\n"
   ]
  },
  {
   "cell_type": "code",
   "execution_count": null,
   "metadata": {},
   "outputs": [],
   "source": [
    "def read_rasters(file_paths):\n",
    "    rasters = []\n",
    "    for file_path in file_paths:\n",
    "        with rasterio.open(file_path) as src:\n",
    "            rasters.append(src.read(1))\n",
    "    return rasters, src.meta\n",
    "\n",
    "def weighted_sum_rasters(rasters, weights):\n",
    "    weighted_sum = np.zeros_like(rasters[0], dtype=float)\n",
    "    for raster, weight in zip(rasters, weights):\n",
    "        weighted_sum += raster * weight\n",
    "    return weighted_sum\n",
    "\n",
    "def save_raster(output_path, data, meta):\n",
    "    meta.update({\"dtype\": 'float32'})\n",
    "    with rasterio.open(output_path, 'w', **meta) as dst:\n",
    "        dst.write(data.astype('float32'), 1)\n",
    "\n",
    "def read_config(config_file):\n",
    "    with open(config_file, 'r') as f:\n",
    "        lines = f.readlines()\n",
    "    \n",
    "    config = {}\n",
    "    for line in lines:\n",
    "        key, value = line.strip().split(' ', 1)\n",
    "        config[key] = value\n",
    "    \n",
    "    return config\n",
    "\n",
    "def main(config_file):\n",
    "    # Read the configuration from the text file\n",
    "    config = read_config(config_file)\n",
    "    \n",
    "    raster_folder = config['raster_folder']\n",
    "    save_folder = config['save']\n",
    "    \n",
    "    # Read the raster file names and their weights\n",
    "    raster_files = []\n",
    "    weights = []\n",
    "    \n",
    "    for key, value in config.items():\n",
    "        if key not in ['raster_folder', 'save']:\n",
    "            raster_files.append(os.path.join(raster_folder, f\"{key}.tif\"))\n",
    "            weights.append(float(value))\n",
    "    \n",
    "    # Check if the number of weights matches the number of raster files\n",
    "    if len(raster_files) != len(weights):\n",
    "        raise ValueError(\"The number of weights must match the number of raster files.\")\n",
    "    \n",
    "    # Read the rasters and their metadata\n",
    "    rasters, meta = read_rasters(raster_files)\n",
    "    \n",
    "    # Calculate the weighted sum of the rasters\n",
    "    weighted_raster_sum = weighted_sum_rasters(rasters, weights)\n",
    "    \n",
    "    # Define the output file path\n",
    "    output_file = os.path.join(save_folder, 'weighted_sum_raster.tif')\n",
    "    \n",
    "    # Save the result\n",
    "    save_raster(output_file, weighted_raster_sum, meta)\n",
    "    \n",
    "    print(\"Weighted raster calculation completed and saved successfully.\")\n"
   ]
  },
  {
   "cell_type": "code",
   "execution_count": 2,
   "metadata": {},
   "outputs": [
    {
     "name": "stdout",
     "output_type": "stream",
     "text": [
      "Weighted raster calculation completed and saved successfully.\n"
     ]
    }
   ],
   "source": [
    "# Example usage(change the path to the configuration file)\n",
    "config_file = r'C:\\Users\\Zhimin.Chen\\Desktop\\ZChen\\tsunami\\Tsunami_Risk_Zhimin\\cal_weight.txt'\n",
    "main(config_file)"
   ]
  }
 ],
 "metadata": {
  "kernelspec": {
   "display_name": "Python 3",
   "language": "python",
   "name": "python3"
  },
  "language_info": {
   "codemirror_mode": {
    "name": "ipython",
    "version": 3
   },
   "file_extension": ".py",
   "mimetype": "text/x-python",
   "name": "python",
   "nbconvert_exporter": "python",
   "pygments_lexer": "ipython3",
   "version": "3.10.14"
  }
 },
 "nbformat": 4,
 "nbformat_minor": 2
}
